{
 "cells": [
  {
   "cell_type": "markdown",
   "id": "3005998e",
   "metadata": {},
   "source": [
    "## Install dependencies"
   ]
  },
  {
   "cell_type": "code",
   "execution_count": 1,
   "id": "7e98f078",
   "metadata": {},
   "outputs": [
    {
     "data": {
      "text/plain": [
       "'D:\\\\project\\\\diplom_vu\\\\env\\\\Scripts\\\\python.exe'"
      ]
     },
     "execution_count": 1,
     "metadata": {},
     "output_type": "execute_result"
    }
   ],
   "source": [
    "# Double check if this running in right environment\n",
    "import sys\n",
    "sys.executable"
   ]
  },
  {
   "cell_type": "code",
   "execution_count": 2,
   "id": "56641af7",
   "metadata": {},
   "outputs": [
    {
     "name": "stdout",
     "output_type": "stream",
     "text": [
      "Requirement already satisfied: SpeechRecognition in d:\\project\\diplom_vu\\env\\lib\\site-packages (3.9.0)\n",
      "Requirement already satisfied: requests>=2.26.0 in d:\\project\\diplom_vu\\env\\lib\\site-packages (from SpeechRecognition) (2.28.2)\n",
      "Requirement already satisfied: idna<4,>=2.5 in d:\\project\\diplom_vu\\env\\lib\\site-packages (from requests>=2.26.0->SpeechRecognition) (3.4)\n",
      "Requirement already satisfied: urllib3<1.27,>=1.21.1 in d:\\project\\diplom_vu\\env\\lib\\site-packages (from requests>=2.26.0->SpeechRecognition) (1.26.14)\n",
      "Requirement already satisfied: certifi>=2017.4.17 in d:\\project\\diplom_vu\\env\\lib\\site-packages (from requests>=2.26.0->SpeechRecognition) (2022.12.7)\n",
      "Requirement already satisfied: charset-normalizer<4,>=2 in d:\\project\\diplom_vu\\env\\lib\\site-packages (from requests>=2.26.0->SpeechRecognition) (3.0.1)\n"
     ]
    },
    {
     "name": "stderr",
     "output_type": "stream",
     "text": [
      "\n",
      "[notice] A new release of pip available: 22.2.2 -> 23.0\n",
      "[notice] To update, run: python.exe -m pip install --upgrade pip\n",
      "ERROR: Could not find a version that satisfies the requirement time (from versions: none)\n",
      "ERROR: No matching distribution found for time\n",
      "\n",
      "[notice] A new release of pip available: 22.2.2 -> 23.0\n",
      "[notice] To update, run: python.exe -m pip install --upgrade pip\n"
     ]
    },
    {
     "name": "stdout",
     "output_type": "stream",
     "text": [
      "Requirement already satisfied: wikipedia in d:\\project\\diplom_vu\\env\\lib\\site-packages (1.4.0)\n",
      "Requirement already satisfied: beautifulsoup4 in d:\\project\\diplom_vu\\env\\lib\\site-packages (from wikipedia) (4.11.2)\n",
      "Requirement already satisfied: requests<3.0.0,>=2.0.0 in d:\\project\\diplom_vu\\env\\lib\\site-packages (from wikipedia) (2.28.2)\n",
      "Requirement already satisfied: idna<4,>=2.5 in d:\\project\\diplom_vu\\env\\lib\\site-packages (from requests<3.0.0,>=2.0.0->wikipedia) (3.4)\n",
      "Requirement already satisfied: urllib3<1.27,>=1.21.1 in d:\\project\\diplom_vu\\env\\lib\\site-packages (from requests<3.0.0,>=2.0.0->wikipedia) (1.26.14)\n",
      "Requirement already satisfied: certifi>=2017.4.17 in d:\\project\\diplom_vu\\env\\lib\\site-packages (from requests<3.0.0,>=2.0.0->wikipedia) (2022.12.7)\n",
      "Requirement already satisfied: charset-normalizer<4,>=2 in d:\\project\\diplom_vu\\env\\lib\\site-packages (from requests<3.0.0,>=2.0.0->wikipedia) (3.0.1)\n",
      "Requirement already satisfied: soupsieve>1.2 in d:\\project\\diplom_vu\\env\\lib\\site-packages (from beautifulsoup4->wikipedia) (2.4)\n"
     ]
    },
    {
     "name": "stderr",
     "output_type": "stream",
     "text": [
      "\n",
      "[notice] A new release of pip available: 22.2.2 -> 23.0\n",
      "[notice] To update, run: python.exe -m pip install --upgrade pip\n"
     ]
    },
    {
     "name": "stdout",
     "output_type": "stream",
     "text": [
      "Requirement already satisfied: selenium in d:\\project\\diplom_vu\\env\\lib\\site-packages (4.8.0)\n",
      "Requirement already satisfied: webdriver-manager in d:\\project\\diplom_vu\\env\\lib\\site-packages (3.8.5)\n",
      "Requirement already satisfied: urllib3[socks]~=1.26 in d:\\project\\diplom_vu\\env\\lib\\site-packages (from selenium) (1.26.14)\n",
      "Requirement already satisfied: certifi>=2021.10.8 in d:\\project\\diplom_vu\\env\\lib\\site-packages (from selenium) (2022.12.7)\n",
      "Requirement already satisfied: trio~=0.17 in d:\\project\\diplom_vu\\env\\lib\\site-packages (from selenium) (0.22.0)\n",
      "Requirement already satisfied: trio-websocket~=0.9 in d:\\project\\diplom_vu\\env\\lib\\site-packages (from selenium) (0.9.2)\n",
      "Requirement already satisfied: python-dotenv in d:\\project\\diplom_vu\\env\\lib\\site-packages (from webdriver-manager) (0.21.1)\n",
      "Requirement already satisfied: packaging in d:\\project\\diplom_vu\\env\\lib\\site-packages (from webdriver-manager) (23.0)\n",
      "Requirement already satisfied: requests in d:\\project\\diplom_vu\\env\\lib\\site-packages (from webdriver-manager) (2.28.2)\n",
      "Requirement already satisfied: tqdm in d:\\project\\diplom_vu\\env\\lib\\site-packages (from webdriver-manager) (4.64.1)\n",
      "Requirement already satisfied: sortedcontainers in d:\\project\\diplom_vu\\env\\lib\\site-packages (from trio~=0.17->selenium) (2.4.0)\n",
      "Requirement already satisfied: outcome in d:\\project\\diplom_vu\\env\\lib\\site-packages (from trio~=0.17->selenium) (1.2.0)\n",
      "Requirement already satisfied: async-generator>=1.9 in d:\\project\\diplom_vu\\env\\lib\\site-packages (from trio~=0.17->selenium) (1.10)\n",
      "Requirement already satisfied: attrs>=19.2.0 in d:\\project\\diplom_vu\\env\\lib\\site-packages (from trio~=0.17->selenium) (22.2.0)\n",
      "Requirement already satisfied: sniffio in d:\\project\\diplom_vu\\env\\lib\\site-packages (from trio~=0.17->selenium) (1.3.0)\n",
      "Requirement already satisfied: exceptiongroup>=1.0.0rc9 in d:\\project\\diplom_vu\\env\\lib\\site-packages (from trio~=0.17->selenium) (1.1.0)\n",
      "Requirement already satisfied: idna in d:\\project\\diplom_vu\\env\\lib\\site-packages (from trio~=0.17->selenium) (3.4)\n",
      "Requirement already satisfied: cffi>=1.14 in d:\\project\\diplom_vu\\env\\lib\\site-packages (from trio~=0.17->selenium) (1.15.1)\n",
      "Requirement already satisfied: wsproto>=0.14 in d:\\project\\diplom_vu\\env\\lib\\site-packages (from trio-websocket~=0.9->selenium) (1.2.0)\n",
      "Requirement already satisfied: PySocks!=1.5.7,<2.0,>=1.5.6 in d:\\project\\diplom_vu\\env\\lib\\site-packages (from urllib3[socks]~=1.26->selenium) (1.7.1)\n",
      "Requirement already satisfied: charset-normalizer<4,>=2 in d:\\project\\diplom_vu\\env\\lib\\site-packages (from requests->webdriver-manager) (3.0.1)\n",
      "Requirement already satisfied: colorama in d:\\project\\diplom_vu\\env\\lib\\site-packages (from tqdm->webdriver-manager) (0.4.6)\n",
      "Requirement already satisfied: pycparser in d:\\project\\diplom_vu\\env\\lib\\site-packages (from cffi>=1.14->trio~=0.17->selenium) (2.21)\n",
      "Requirement already satisfied: h11<1,>=0.9.0 in d:\\project\\diplom_vu\\env\\lib\\site-packages (from wsproto>=0.14->trio-websocket~=0.9->selenium) (0.14.0)\n"
     ]
    },
    {
     "name": "stderr",
     "output_type": "stream",
     "text": [
      "\n",
      "[notice] A new release of pip available: 22.2.2 -> 23.0\n",
      "[notice] To update, run: python.exe -m pip install --upgrade pip\n"
     ]
    },
    {
     "name": "stdout",
     "output_type": "stream",
     "text": [
      "Requirement already satisfied: gTTS in d:\\project\\diplom_vu\\env\\lib\\site-packages (2.3.1)\n",
      "Requirement already satisfied: click<8.2,>=7.1 in d:\\project\\diplom_vu\\env\\lib\\site-packages (from gTTS) (8.1.3)\n",
      "Requirement already satisfied: requests<3,>=2.27 in d:\\project\\diplom_vu\\env\\lib\\site-packages (from gTTS) (2.28.2)\n",
      "Requirement already satisfied: colorama in d:\\project\\diplom_vu\\env\\lib\\site-packages (from click<8.2,>=7.1->gTTS) (0.4.6)\n",
      "Requirement already satisfied: certifi>=2017.4.17 in d:\\project\\diplom_vu\\env\\lib\\site-packages (from requests<3,>=2.27->gTTS) (2022.12.7)\n",
      "Requirement already satisfied: idna<4,>=2.5 in d:\\project\\diplom_vu\\env\\lib\\site-packages (from requests<3,>=2.27->gTTS) (3.4)\n",
      "Requirement already satisfied: charset-normalizer<4,>=2 in d:\\project\\diplom_vu\\env\\lib\\site-packages (from requests<3,>=2.27->gTTS) (3.0.1)\n",
      "Requirement already satisfied: urllib3<1.27,>=1.21.1 in d:\\project\\diplom_vu\\env\\lib\\site-packages (from requests<3,>=2.27->gTTS) (1.26.14)\n"
     ]
    },
    {
     "name": "stderr",
     "output_type": "stream",
     "text": [
      "\n",
      "[notice] A new release of pip available: 22.2.2 -> 23.0\n",
      "[notice] To update, run: python.exe -m pip install --upgrade pip\n"
     ]
    },
    {
     "name": "stdout",
     "output_type": "stream",
     "text": [
      "Requirement already satisfied: playsound==1.2.2 in d:\\project\\diplom_vu\\env\\lib\\site-packages (1.2.2)\n"
     ]
    },
    {
     "name": "stderr",
     "output_type": "stream",
     "text": [
      "\n",
      "[notice] A new release of pip available: 22.2.2 -> 23.0\n",
      "[notice] To update, run: python.exe -m pip install --upgrade pip\n"
     ]
    },
    {
     "name": "stdout",
     "output_type": "stream",
     "text": [
      "Requirement already satisfied: youtube-search-python in d:\\project\\diplom_vu\\env\\lib\\site-packages (1.6.6)\n",
      "Requirement already satisfied: httpx>=0.14.2 in d:\\project\\diplom_vu\\env\\lib\\site-packages (from youtube-search-python) (0.23.3)\n",
      "Requirement already satisfied: httpcore<0.17.0,>=0.15.0 in d:\\project\\diplom_vu\\env\\lib\\site-packages (from httpx>=0.14.2->youtube-search-python) (0.16.3)\n",
      "Requirement already satisfied: certifi in d:\\project\\diplom_vu\\env\\lib\\site-packages (from httpx>=0.14.2->youtube-search-python) (2022.12.7)\n",
      "Requirement already satisfied: rfc3986[idna2008]<2,>=1.3 in d:\\project\\diplom_vu\\env\\lib\\site-packages (from httpx>=0.14.2->youtube-search-python) (1.5.0)\n",
      "Requirement already satisfied: sniffio in d:\\project\\diplom_vu\\env\\lib\\site-packages (from httpx>=0.14.2->youtube-search-python) (1.3.0)\n",
      "Requirement already satisfied: h11<0.15,>=0.13 in d:\\project\\diplom_vu\\env\\lib\\site-packages (from httpcore<0.17.0,>=0.15.0->httpx>=0.14.2->youtube-search-python) (0.14.0)\n",
      "Requirement already satisfied: anyio<5.0,>=3.0 in d:\\project\\diplom_vu\\env\\lib\\site-packages (from httpcore<0.17.0,>=0.15.0->httpx>=0.14.2->youtube-search-python) (3.6.2)\n",
      "Requirement already satisfied: idna in d:\\project\\diplom_vu\\env\\lib\\site-packages (from rfc3986[idna2008]<2,>=1.3->httpx>=0.14.2->youtube-search-python) (3.4)\n"
     ]
    },
    {
     "name": "stderr",
     "output_type": "stream",
     "text": [
      "\n",
      "[notice] A new release of pip available: 22.2.2 -> 23.0\n",
      "[notice] To update, run: python.exe -m pip install --upgrade pip\n"
     ]
    },
    {
     "name": "stdout",
     "output_type": "stream",
     "text": [
      "Requirement already satisfied: PyAudio in d:\\project\\diplom_vu\\env\\lib\\site-packages (0.2.13)\n"
     ]
    },
    {
     "name": "stderr",
     "output_type": "stream",
     "text": [
      "\n",
      "[notice] A new release of pip available: 22.2.2 -> 23.0\n",
      "[notice] To update, run: python.exe -m pip install --upgrade pip\n"
     ]
    },
    {
     "name": "stdout",
     "output_type": "stream",
     "text": [
      "Requirement already satisfied: openai in d:\\project\\diplom_vu\\env\\lib\\site-packages (0.26.5)\n",
      "Requirement already satisfied: tqdm in d:\\project\\diplom_vu\\env\\lib\\site-packages (from openai) (4.64.1)\n",
      "Requirement already satisfied: requests>=2.20 in d:\\project\\diplom_vu\\env\\lib\\site-packages (from openai) (2.28.2)\n",
      "Requirement already satisfied: aiohttp in d:\\project\\diplom_vu\\env\\lib\\site-packages (from openai) (3.8.4)\n",
      "Requirement already satisfied: urllib3<1.27,>=1.21.1 in d:\\project\\diplom_vu\\env\\lib\\site-packages (from requests>=2.20->openai) (1.26.14)\n",
      "Requirement already satisfied: charset-normalizer<4,>=2 in d:\\project\\diplom_vu\\env\\lib\\site-packages (from requests>=2.20->openai) (3.0.1)\n",
      "Requirement already satisfied: idna<4,>=2.5 in d:\\project\\diplom_vu\\env\\lib\\site-packages (from requests>=2.20->openai) (3.4)\n",
      "Requirement already satisfied: certifi>=2017.4.17 in d:\\project\\diplom_vu\\env\\lib\\site-packages (from requests>=2.20->openai) (2022.12.7)\n",
      "Requirement already satisfied: frozenlist>=1.1.1 in d:\\project\\diplom_vu\\env\\lib\\site-packages (from aiohttp->openai) (1.3.3)\n",
      "Requirement already satisfied: multidict<7.0,>=4.5 in d:\\project\\diplom_vu\\env\\lib\\site-packages (from aiohttp->openai) (6.0.4)\n",
      "Requirement already satisfied: async-timeout<5.0,>=4.0.0a3 in d:\\project\\diplom_vu\\env\\lib\\site-packages (from aiohttp->openai) (4.0.2)\n",
      "Requirement already satisfied: attrs>=17.3.0 in d:\\project\\diplom_vu\\env\\lib\\site-packages (from aiohttp->openai) (22.2.0)\n",
      "Requirement already satisfied: yarl<2.0,>=1.0 in d:\\project\\diplom_vu\\env\\lib\\site-packages (from aiohttp->openai) (1.8.2)\n",
      "Requirement already satisfied: aiosignal>=1.1.2 in d:\\project\\diplom_vu\\env\\lib\\site-packages (from aiohttp->openai) (1.3.1)\n",
      "Requirement already satisfied: colorama in d:\\project\\diplom_vu\\env\\lib\\site-packages (from tqdm->openai) (0.4.6)\n"
     ]
    },
    {
     "name": "stderr",
     "output_type": "stream",
     "text": [
      "\n",
      "[notice] A new release of pip available: 22.2.2 -> 23.0\n",
      "[notice] To update, run: python.exe -m pip install --upgrade pip\n"
     ]
    },
    {
     "name": "stdout",
     "output_type": "stream",
     "text": [
      "Requirement already satisfied: python-dotenv in d:\\project\\diplom_vu\\env\\lib\\site-packages (0.21.1)\n"
     ]
    },
    {
     "name": "stderr",
     "output_type": "stream",
     "text": [
      "\n",
      "[notice] A new release of pip available: 22.2.2 -> 23.0\n",
      "[notice] To update, run: python.exe -m pip install --upgrade pip\n"
     ]
    }
   ],
   "source": [
    "# Install libraries\n",
    "!pip install SpeechRecognition\n",
    "!pip install time datetime\n",
    "!pip install wikipedia\n",
    "!pip install selenium webdriver-manager\n",
    "!pip install gTTS\n",
    "!pip install playsound==1.2.2\n",
    "!pip install youtube-search-python\n",
    "!pip install PyAudio\n",
    "!pip install openai\n",
    "!pip install python-dotenv"
   ]
  },
  {
   "cell_type": "markdown",
   "id": "a735eece",
   "metadata": {},
   "source": [
    "## Basic Assistant\n",
    "source: https://github.com/hungdhv97/Virtual-Assistant/"
   ]
  },
  {
   "cell_type": "code",
   "execution_count": 3,
   "id": "1d7ca928",
   "metadata": {},
   "outputs": [],
   "source": [
    "import os\n",
    "import playsound\n",
    "import speech_recognition as sr\n",
    "import time\n",
    "import sys\n",
    "import ctypes\n",
    "import wikipedia\n",
    "import datetime\n",
    "import json\n",
    "import re\n",
    "import webbrowser\n",
    "import smtplib\n",
    "import requests\n",
    "import urllib\n",
    "import urllib.request as urllib2\n",
    "from selenium import webdriver\n",
    "from selenium.webdriver.common.keys import Keys\n",
    "from webdriver_manager.chrome import ChromeDriverManager\n",
    "from time import strftime\n",
    "from gtts import gTTS\n",
    "from youtube_search import YoutubeSearch"
   ]
  },
  {
   "cell_type": "code",
   "execution_count": 4,
   "id": "2590b6fe",
   "metadata": {},
   "outputs": [],
   "source": [
    "# Meta data\n",
    "wikipedia.set_lang('vi')\n",
    "language = 'vi'\n",
    "path = ChromeDriverManager().install()"
   ]
  },
  {
   "cell_type": "code",
   "execution_count": 5,
   "id": "5cac5a09",
   "metadata": {},
   "outputs": [],
   "source": [
    "def speak(text):\n",
    "    print(\"Bot: {}\".format(text))\n",
    "    tts = gTTS(text=text, lang=language, slow=False)\n",
    "    tts.save(\"sound.mp3\")\n",
    "    playsound.playsound(\"sound.mp3\", False)\n",
    "    os.remove(\"sound.mp3\")"
   ]
  },
  {
   "cell_type": "code",
   "execution_count": 6,
   "id": "edf73264",
   "metadata": {},
   "outputs": [],
   "source": [
    "def get_audio():\n",
    "    r = sr.Recognizer()\n",
    "    with sr.Microphone() as source:\n",
    "        print(\"Tôi: \", end='')\n",
    "        audio = r.listen(source, phrase_time_limit=5)\n",
    "        try:\n",
    "            text = r.recognize_google(audio, language=language)\n",
    "            print(text)\n",
    "            return text\n",
    "        except:\n",
    "            print(\"...\")\n",
    "            return 0"
   ]
  },
  {
   "cell_type": "code",
   "execution_count": 7,
   "id": "5315e2ae",
   "metadata": {},
   "outputs": [],
   "source": [
    "def stop():\n",
    "    speak(\"Hẹn gặp lại bạn sau!\")\n",
    "\n",
    "def get_text():\n",
    "    for i in range(3):\n",
    "        text = get_audio()\n",
    "        if text:\n",
    "            return text.lower()\n",
    "        elif i < 2:\n",
    "            speak(\"Bot không nghe rõ. Bạn nói lại được không!\")\n",
    "    time.sleep(2)\n",
    "    stop()\n",
    "    return 0"
   ]
  },
  {
   "cell_type": "code",
   "execution_count": 8,
   "id": "87b73c58",
   "metadata": {},
   "outputs": [],
   "source": [
    "def hello(name):\n",
    "    day_time = int(strftime('%H'))\n",
    "    if day_time < 12:\n",
    "        speak(\"Chào buổi sáng bạn {}. Chúc bạn một ngày tốt lành.\".format(name))\n",
    "    elif 12 <= day_time < 18:\n",
    "        speak(\"Chào buổi chiều bạn {}. Bạn đã dự định gì cho chiều nay chưa.\".format(name))\n",
    "    else:\n",
    "        speak(\"Chào buổi tối bạn {}. Bạn đã ăn tối chưa nhỉ.\".format(name))"
   ]
  },
  {
   "cell_type": "code",
   "execution_count": 9,
   "id": "430c6562",
   "metadata": {},
   "outputs": [],
   "source": [
    "def get_time(text):\n",
    "    now = datetime.datetime.now()\n",
    "    if \"giờ\" in text:\n",
    "        speak('Bây giờ là %d giờ %d phút' % (now.hour, now.minute))\n",
    "    elif \"ngày\" in text:\n",
    "        speak(\"Hôm nay là ngày %d tháng %d năm %d\" %\n",
    "              (now.day, now.month, now.year))\n",
    "    else:\n",
    "        speak(\"Bot chưa hiểu ý của bạn. Bạn nói lại được không?\")"
   ]
  },
  {
   "cell_type": "code",
   "execution_count": 10,
   "id": "17ede3b1",
   "metadata": {},
   "outputs": [],
   "source": [
    "def open_application(text):\n",
    "    if \"google\" in text:\n",
    "        speak(\"Mở Google Chrome\")\n",
    "        os.startfile(\n",
    "            'C:\\Program Files (x86)\\Google\\Chrome\\Application\\chrome.exe')\n",
    "    elif \"word\" in text:\n",
    "        speak(\"Mở Microsoft Word\")\n",
    "        os.startfile(\n",
    "            'C:\\Program Files\\Microsoft Office\\\\root\\Office16\\\\WINWORD.EXE')\n",
    "    elif \"excel\" in text:\n",
    "        speak(\"Mở Microsoft Excel\")\n",
    "        os.startfile(\n",
    "            'C:\\Program Files\\Microsoft Office\\\\root\\Office16\\EXCEL.EXE')\n",
    "    else:\n",
    "        speak(\"Ứng dụng chưa được cài đặt. Bạn hãy thử lại!\")"
   ]
  },
  {
   "cell_type": "code",
   "execution_count": 11,
   "id": "17cf1182",
   "metadata": {},
   "outputs": [],
   "source": [
    "def open_website(text):\n",
    "    reg_ex = re.search('mở (.+)', text)\n",
    "    if reg_ex:\n",
    "        domain = reg_ex.group(1)\n",
    "        url = 'https://www.' + domain\n",
    "        webbrowser.open(url)\n",
    "        speak(\"Trang web bạn yêu cầu đã được mở.\")\n",
    "        return True\n",
    "    else:\n",
    "        return False"
   ]
  },
  {
   "cell_type": "code",
   "execution_count": 12,
   "id": "4433aa42",
   "metadata": {},
   "outputs": [],
   "source": [
    "def open_google_and_search(text):\n",
    "    search_for = text.split(\"kiếm\", 1)[1]\n",
    "    speak('Okay!')\n",
    "    driver = webdriver.Chrome(path)\n",
    "    driver.get(\"https://www.google.com\")\n",
    "    que = driver.find_element_by_xpath(\"//input[@name='q']\")\n",
    "    que.send_keys(str(search_for))\n",
    "    que.send_keys(Keys.RETURN)"
   ]
  },
  {
   "cell_type": "code",
   "execution_count": 13,
   "id": "11bfba33",
   "metadata": {},
   "outputs": [],
   "source": [
    "def send_email(text):\n",
    "    speak('Bạn gửi email cho ai nhỉ')\n",
    "    recipient = get_text()\n",
    "    if 'yến' in recipient:\n",
    "        speak('Nội dung bạn muốn gửi là gì')\n",
    "        content = get_text()\n",
    "        mail = smtplib.SMTP('smtp.gmail.com', 587)\n",
    "        mail.ehlo()\n",
    "        mail.starttls()\n",
    "        mail.login('luongngochungcntt@gmail.com', 'hung23081997')\n",
    "        mail.sendmail('luongngochungcntt@gmail.com',\n",
    "                      'hungdhv97@gmail.com', content.encode('utf-8'))\n",
    "        mail.close()\n",
    "        speak('Email của bạn vùa được gửi. Bạn check lại email nhé hihi.')\n",
    "    else:\n",
    "        speak('Bot không hiểu bạn muốn gửi email cho ai. Bạn nói lại được không?')"
   ]
  },
  {
   "cell_type": "code",
   "execution_count": 14,
   "id": "bd532722",
   "metadata": {},
   "outputs": [],
   "source": [
    "def current_weather():\n",
    "    speak(\"Bạn muốn xem thời tiết ở đâu ạ.\")\n",
    "    ow_url = \"http://api.openweathermap.org/data/2.5/weather?\"\n",
    "    city = get_text()\n",
    "    if not city:\n",
    "        pass\n",
    "    api_key = \"fe8d8c65cf345889139d8e545f57819a\"\n",
    "    call_url = ow_url + \"appid=\" + api_key + \"&q=\" + city + \"&units=metric\"\n",
    "    response = requests.get(call_url)\n",
    "    data = response.json()\n",
    "    if data[\"cod\"] != \"404\":\n",
    "        city_res = data[\"main\"]\n",
    "        current_temperature = city_res[\"temp\"]\n",
    "        current_pressure = city_res[\"pressure\"]\n",
    "        current_humidity = city_res[\"humidity\"]\n",
    "        suntime = data[\"sys\"]\n",
    "        sunrise = datetime.datetime.fromtimestamp(suntime[\"sunrise\"])\n",
    "        sunset = datetime.datetime.fromtimestamp(suntime[\"sunset\"])\n",
    "        wthr = data[\"weather\"]\n",
    "        weather_description = wthr[0][\"description\"]\n",
    "        now = datetime.datetime.now()\n",
    "        content = \"\"\"\n",
    "        Hôm nay là ngày {day} tháng {month} năm {year}\n",
    "        Mặt trời mọc vào {hourrise} giờ {minrise} phút\n",
    "        Mặt trời lặn vào {hourset} giờ {minset} phút\n",
    "        Nhiệt độ trung bình là {temp} độ C\n",
    "        Áp suất không khí là {pressure} héc tơ Pascal\n",
    "        Độ ẩm là {humidity}%\n",
    "        Trời hôm nay quang mây. Dự báo mưa rải rác ở một số nơi.\"\"\".format(day = now.day,month = now.month, year= now.year, hourrise = sunrise.hour, minrise = sunrise.minute,\n",
    "                                                                           hourset = sunset.hour, minset = sunset.minute, \n",
    "                                                                           temp = current_temperature, pressure = current_pressure, humidity = current_humidity)\n",
    "        speak(content)\n",
    "        time.sleep(20)\n",
    "    else:\n",
    "        speak(\"Không tìm thấy địa chỉ của bạn\")"
   ]
  },
  {
   "cell_type": "code",
   "execution_count": 15,
   "id": "dbe5e00a",
   "metadata": {},
   "outputs": [],
   "source": [
    "def play_song():\n",
    "    speak('Xin mời bạn chọn tên bài hát')\n",
    "    mysong = get_text()\n",
    "    while True:\n",
    "        result = YoutubeSearch(mysong, max_results=10).to_dict()\n",
    "        if result:\n",
    "            break\n",
    "    url = 'https://www.youtube.com' + result[0]['url_suffix']\n",
    "    webbrowser.open(url)\n",
    "    speak(\"Bài hát bạn yêu cầu đã được mở.\")"
   ]
  },
  {
   "cell_type": "code",
   "execution_count": 16,
   "id": "74ed7ebb",
   "metadata": {},
   "outputs": [],
   "source": [
    "def change_wallpaper():\n",
    "    api_key = 'RF3LyUUIyogjCpQwlf-zjzCf1JdvRwb--SLV6iCzOxw'\n",
    "    url = 'https://api.unsplash.com/photos/random?client_id=' + \\\n",
    "        api_key  # pic from unspalsh.com\n",
    "    f = urllib2.urlopen(url)\n",
    "    json_string = f.read()\n",
    "    f.close()\n",
    "    parsed_json = json.loads(json_string)\n",
    "    photo = parsed_json['urls']['full']\n",
    "    # Location where we download the image to.\n",
    "    urllib2.urlretrieve(photo, \"C:/Users/Night Fury/Downloads/a.png\")\n",
    "    image=os.path.join(\"C:/Users/Night Fury/Downloads/a.png\")\n",
    "    ctypes.windll.user32.SystemParametersInfoW(20,0,image,3)\n",
    "    speak('Hình nền máy tính vừa được thay đổi')"
   ]
  },
  {
   "cell_type": "code",
   "execution_count": 17,
   "id": "00395a7c",
   "metadata": {},
   "outputs": [],
   "source": [
    "def read_news():\n",
    "    speak(\"Bạn muốn đọc báo về gì\")\n",
    "    \n",
    "    queue = get_text()\n",
    "    params = {\n",
    "        'apiKey': '30d02d187f7140faacf9ccd27a1441ad',\n",
    "        \"q\": queue,\n",
    "    }\n",
    "    api_result = requests.get('http://newsapi.org/v2/top-headlines?', params)\n",
    "    api_response = api_result.json()\n",
    "    print(\"Tin tức\")\n",
    "\n",
    "    for number, result in enumerate(api_response['articles'], start=1):\n",
    "        print(f\"\"\"Tin {number}:\\nTiêu đề: {result['title']}\\nTrích dẫn: {result['description']}\\nLink: {result['url']}\n",
    "    \"\"\")\n",
    "        if number <= 3:\n",
    "            webbrowser.open(result['url'])"
   ]
  },
  {
   "cell_type": "code",
   "execution_count": 18,
   "id": "d8268ff1",
   "metadata": {},
   "outputs": [],
   "source": [
    "def tell_me_about():\n",
    "    try:\n",
    "        speak(\"Bạn muốn nghe về gì ạ\")\n",
    "        text = get_text()\n",
    "        contents = wikipedia.summary(text).split('\\n')\n",
    "        speak(contents[0])\n",
    "        time.sleep(10)\n",
    "        for content in contents[1:]:\n",
    "            speak(\"Bạn muốn nghe thêm không\")\n",
    "            ans = get_text()\n",
    "            if \"có\" not in ans:\n",
    "                break    \n",
    "            speak(content)\n",
    "            time.sleep(10)\n",
    "\n",
    "        speak('Cảm ơn bạn đã lắng nghe!!!')\n",
    "    except:\n",
    "        speak(\"Bot không định nghĩa được thuật ngữ của bạn. Xin mời bạn nói lại\")"
   ]
  },
  {
   "cell_type": "code",
   "execution_count": 19,
   "id": "7245e288",
   "metadata": {},
   "outputs": [],
   "source": [
    "def help_me():\n",
    "    speak(\"\"\"Bot có thể giúp bạn thực hiện các câu lệnh sau đây:\n",
    "    1. Chào hỏi\n",
    "    2. Hiển thị giờ\n",
    "    3. Mở website, application\n",
    "    4. Tìm kiếm trên Google\n",
    "    5. Gửi email\n",
    "    6. Dự báo thời tiết\n",
    "    7. Mở video nhạc\n",
    "    8. Thay đổi hình nền máy tính\n",
    "    9. Đọc báo hôm nay\n",
    "    10. Kể bạn biết về thế giới \"\"\")\n",
    "    time.sleep(20)"
   ]
  },
  {
   "cell_type": "code",
   "execution_count": 20,
   "id": "808bcac3",
   "metadata": {},
   "outputs": [],
   "source": [
    "def assistant():\n",
    "    speak(\"Xin chào, bạn tên là gì nhỉ?\")\n",
    "#     name = get_text()\n",
    "    name = \"Đoàn Văn Hậu\"\n",
    "    if name:\n",
    "        speak(\"Chào bạn {}\".format(name))\n",
    "        speak(\"Bạn cần Bot Alex có thể giúp gì ạ?\")\n",
    "        while True:\n",
    "            text = get_text()\n",
    "            if not text:\n",
    "                break\n",
    "            elif \"dừng\" in text or \"tạm biệt\" in text or \"chào robot\" in text or \"ngủ thôi\" in text:\n",
    "                stop()\n",
    "                break\n",
    "            elif \"có thể làm gì\" in text:\n",
    "                help_me()\n",
    "            elif \"chào trợ lý ảo\" in text:\n",
    "                hello(name)\n",
    "            elif \"hiện tại\" in text:\n",
    "                get_time(text)\n",
    "            elif \"mở\" in text:\n",
    "                if 'mở google và tìm kiếm' in text:\n",
    "                    open_google_and_search(text)\n",
    "                elif \".\" in text:\n",
    "                    open_website(text)\n",
    "                else:\n",
    "                    open_application(text)\n",
    "            elif \"email\" in text or \"mail\" in text or \"gmail\" in text:\n",
    "                send_email(text)\n",
    "            elif \"thời tiết\" in text:\n",
    "                current_weather()\n",
    "            elif \"chơi nhạc\" in text:\n",
    "                play_song()\n",
    "            elif \"hình nền\" in text:\n",
    "                change_wallpaper()\n",
    "            elif \"đọc báo\" in text:\n",
    "                read_news()\n",
    "            elif \"định nghĩa\" in text:\n",
    "                tell_me_about()\n",
    "            else:\n",
    "                speak(\"Bạn cần Bot giúp gì ạ?\")"
   ]
  },
  {
   "cell_type": "code",
   "execution_count": 21,
   "id": "fa246a37",
   "metadata": {},
   "outputs": [],
   "source": [
    "# assistant()"
   ]
  },
  {
   "cell_type": "markdown",
   "id": "6cb6539f",
   "metadata": {},
   "source": [
    "## ChatGPT Assistant"
   ]
  },
  {
   "cell_type": "code",
   "execution_count": 71,
   "id": "11dbab82",
   "metadata": {},
   "outputs": [],
   "source": [
    "import openai\n",
    "import dotenv\n",
    "\n",
    "dotenv.load_dotenv(\".env\", override=True)\n",
    "openai.api_key = os.getenv(\"OPENAI_API_KEY\")\n",
    "\n",
    "bot_name = \"Sally\"\n",
    "prompt = \"\"\"Sally is an assistant that gently respond and give suggestions to user in different language.\n",
    "\n",
    "User: Xin chào bạn, bạn tên là gì?\n",
    "Assistant: Xin chào bạn, tôi tên là Sally\n",
    "User: How are you today?\n",
    "Assistant: I'm so strong these days, thanks for asking.\n",
    "User: Вы когда-нибудь были в России?\n",
    "Assistant: Да, последний раз я был там 3 года назад.\n",
    "\"\"\"\n",
    "\n",
    "# language = 'en'\n",
    "# greeting = \"Hello, my name is Sally\"\n",
    "# goodbye = \"Goodbye, see you later\"\n",
    "# confuse = \"Sorry, I don't hear you\"\n",
    "\n",
    "language = 'vi'\n",
    "greeting = \"Xin chào, tôi tên là Sally\"\n",
    "goodbye = \"Hẹn gặp lại bạn\"\n",
    "confuse = \"Xin lỗi tôi không nghe rõ\"\n",
    "\n",
    "# language = 'ru'\n",
    "\n",
    "history = \"\""
   ]
  },
  {
   "cell_type": "code",
   "execution_count": 78,
   "id": "561386e0",
   "metadata": {},
   "outputs": [],
   "source": [
    "def chatgpt_reply(question):\n",
    "    response = openai.Completion.create(\n",
    "        model=\"text-davinci-003\",\n",
    "        prompt=history + \"Assistant:\",\n",
    "        temperature=0,\n",
    "        max_tokens=150,\n",
    "        n=1,\n",
    "        top_p=1,\n",
    "        frequency_penalty=0,\n",
    "        presence_penalty=0.6,\n",
    "        stop=[\"User:\", \"Assistant:\"]\n",
    "    )\n",
    "    # print(response)\n",
    "    return response.choices[0].text\n",
    "\n",
    "def chatgpt_speak(text):\n",
    "    tts = gTTS(text=text, lang=language, slow=False)\n",
    "    tts.save(\"sound.mp3\")\n",
    "    playsound.playsound(\"sound.mp3\", False)\n",
    "    os.remove(\"sound.mp3\")\n",
    "    \n",
    "def chatgpt_get_audio():\n",
    "    r = sr.Recognizer()\n",
    "    with sr.Microphone() as source:\n",
    "        audio = r.listen(source, phrase_time_limit=5)\n",
    "        try:\n",
    "            text = r.recognize_google(audio, language=\"vi-VN\")\n",
    "            return text\n",
    "        except:\n",
    "            print(\"...\")\n",
    "            return 0\n",
    "        \n",
    "def chatgpt_get_text():\n",
    "    for i in range(3):\n",
    "        text = chatgpt_get_audio()\n",
    "        if text:\n",
    "            return text\n",
    "        elif i < 2:\n",
    "            chatgpt_speak(confuse)\n",
    "    time.sleep(2)\n",
    "    return 0\n",
    "\n",
    "def save_history(speaker, text):\n",
    "    global history\n",
    "    sentence = f\"{speaker}: {text.capitalize().strip()}\\n\"\n",
    "    history += sentence\n",
    "    print(sentence)"
   ]
  },
  {
   "cell_type": "code",
   "execution_count": 79,
   "id": "91b9cc43",
   "metadata": {},
   "outputs": [],
   "source": [
    "def chatgpt_assistant():\n",
    "    global history\n",
    "    history = prompt\n",
    "    chatgpt_speak(greeting)\n",
    "    while True:\n",
    "        text = chatgpt_get_text()\n",
    "        if not text:\n",
    "            break\n",
    "        elif f\"stop {bot_name}\" in text:\n",
    "            chatgpt_speak(goodbye)\n",
    "            break\n",
    "        save_history(\"User\", text)\n",
    "        reply = chatgpt_reply(text)\n",
    "        save_history(bot_name, reply)\n",
    "        chatgpt_speak(reply)"
   ]
  },
  {
   "cell_type": "code",
   "execution_count": 80,
   "id": "6b270ad5",
   "metadata": {},
   "outputs": [
    {
     "name": "stdout",
     "output_type": "stream",
     "text": [
      "result2:\n",
      "{   'alternative': [   {   'confidence': 0.94535118,\n",
      "                           'transcript': 'Xin chào bạn tên là gì'},\n",
      "                       {'transcript': 'Xin chào bạn tên là gì?'}],\n",
      "    'final': True}\n",
      "User: Xin chào bạn tên là gì\n",
      "\n",
      "{\n",
      "  \"choices\": [\n",
      "    {\n",
      "      \"finish_reason\": \"stop\",\n",
      "      \"index\": 0,\n",
      "      \"logprobs\": null,\n",
      "      \"text\": \" Xin ch\\u00e0o, t\\u00f4i t\\u00ean l\\u00e0 Sally.\"\n",
      "    }\n",
      "  ],\n",
      "  \"created\": 1676597064,\n",
      "  \"id\": \"cmpl-6kjm4X6GqwMN1Gvaeo5MtCTZaSsF8\",\n",
      "  \"model\": \"text-davinci-003\",\n",
      "  \"object\": \"text_completion\",\n",
      "  \"usage\": {\n",
      "    \"completion_tokens\": 15,\n",
      "    \"prompt_tokens\": 197,\n",
      "    \"total_tokens\": 212\n",
      "  }\n",
      "}\n",
      "Sally: xin chào, tôi tên là sally.\n",
      "\n",
      "result2:\n",
      "{   'alternative': [   {   'confidence': 0.88961697,\n",
      "                           'transcript': '1 + 1 bằng mấy'},\n",
      "                       {'transcript': '1 + 1 = mấy'}],\n",
      "    'final': True}\n",
      "User: 1 + 1 bằng mấy\n",
      "\n",
      "{\n",
      "  \"choices\": [\n",
      "    {\n",
      "      \"finish_reason\": \"stop\",\n",
      "      \"index\": 0,\n",
      "      \"logprobs\": null,\n",
      "      \"text\": \" 1 + 1 b\\u1eb1ng 2.\"\n",
      "    }\n",
      "  ],\n",
      "  \"created\": 1676597073,\n",
      "  \"id\": \"cmpl-6kjmDBNZvAxWaG9PJV0jc2kqmIvAN\",\n",
      "  \"model\": \"text-davinci-003\",\n",
      "  \"object\": \"text_completion\",\n",
      "  \"usage\": {\n",
      "    \"completion_tokens\": 10,\n",
      "    \"prompt_tokens\": 234,\n",
      "    \"total_tokens\": 244\n",
      "  }\n",
      "}\n",
      "Sally: 1 + 1 bằng 2.\n",
      "\n",
      "result2:\n",
      "{   'alternative': [   {   'confidence': 0.82707393,\n",
      "                           'transcript': 'cộng thêm ba lần mấy'},\n",
      "                       {'transcript': 'cộng thêm ba là mấy'},\n",
      "                       {'transcript': 'cộng thêm 3 lần mấy'}],\n",
      "    'final': True}\n",
      "User: Cộng thêm ba lần mấy\n",
      "\n",
      "{\n",
      "  \"choices\": [\n",
      "    {\n",
      "      \"finish_reason\": \"stop\",\n",
      "      \"index\": 0,\n",
      "      \"logprobs\": null,\n",
      "      \"text\": \" 1 + 1 + 3 b\\u1eb1ng 5.\"\n",
      "    }\n",
      "  ],\n",
      "  \"created\": 1676597081,\n",
      "  \"id\": \"cmpl-6kjmL0IEImibO9vVOaJ6UxcjBN5zt\",\n",
      "  \"model\": \"text-davinci-003\",\n",
      "  \"object\": \"text_completion\",\n",
      "  \"usage\": {\n",
      "    \"completion_tokens\": 12,\n",
      "    \"prompt_tokens\": 270,\n",
      "    \"total_tokens\": 282\n",
      "  }\n",
      "}\n",
      "Sally: 1 + 1 + 3 bằng 5.\n",
      "\n",
      "result2:\n",
      "{   'alternative': [{'confidence': 0.60019314, 'transcript': 'dừng lại'}],\n",
      "    'final': True}\n",
      "User: Dừng lại\n",
      "\n",
      "{\n",
      "  \"choices\": [\n",
      "    {\n",
      "      \"finish_reason\": \"stop\",\n",
      "      \"index\": 0,\n",
      "      \"logprobs\": null,\n",
      "      \"text\": \" \\u0110\\u00e3 d\\u1eebng l\\u1ea1i. H\\u1eb9n g\\u1eb7p l\\u1ea1i b\\u1ea1n!\"\n",
      "    }\n",
      "  ],\n",
      "  \"created\": 1676597090,\n",
      "  \"id\": \"cmpl-6kjmUJtam8QViencB27CwlPSLZCg4\",\n",
      "  \"model\": \"text-davinci-003\",\n",
      "  \"object\": \"text_completion\",\n",
      "  \"usage\": {\n",
      "    \"completion_tokens\": 35,\n",
      "    \"prompt_tokens\": 299,\n",
      "    \"total_tokens\": 334\n",
      "  }\n",
      "}\n",
      "Sally: đã dừng lại. hẹn gặp lại bạn!\n",
      "\n",
      "result2:\n",
      "[]\n",
      "...\n",
      "result2:\n",
      "[]\n",
      "...\n",
      "result2:\n",
      "[]\n",
      "...\n"
     ]
    }
   ],
   "source": [
    "chatgpt_assistant()"
   ]
  },
  {
   "cell_type": "code",
   "execution_count": 81,
   "id": "23c37f9f",
   "metadata": {},
   "outputs": [
    {
     "data": {
      "text/plain": [
       "\"Sally is an assistant that gently respond and give suggestions to user in different language.\\n\\nUser: Xin chào bạn, bạn tên là gì?\\nSally: Xin chào bạn, tôi tên là Sally\\nUser: How are you today?\\nSally: I'm so strong these days, thanks for asking.\\nUser: Вы когда-нибудь были в России?\\nSally: Да, последний раз я был там 3 года назад.\\nUser: Xin chào bạn tên là gì\\nSally: xin chào, tôi tên là sally.\\nUser: 1 + 1 bằng mấy\\nSally: 1 + 1 bằng 2.\\nUser: Cộng thêm ba lần mấy\\nSally: 1 + 1 + 3 bằng 5.\\nUser: Dừng lại\\nSally: đã dừng lại. hẹn gặp lại bạn!\\n\""
      ]
     },
     "execution_count": 81,
     "metadata": {},
     "output_type": "execute_result"
    }
   ],
   "source": [
    "history"
   ]
  },
  {
   "cell_type": "code",
   "execution_count": null,
   "id": "de8bc112",
   "metadata": {},
   "outputs": [],
   "source": []
  }
 ],
 "metadata": {
  "kernelspec": {
   "display_name": "env",
   "language": "python",
   "name": "env"
  },
  "language_info": {
   "codemirror_mode": {
    "name": "ipython",
    "version": 3
   },
   "file_extension": ".py",
   "mimetype": "text/x-python",
   "name": "python",
   "nbconvert_exporter": "python",
   "pygments_lexer": "ipython3",
   "version": "3.10.7"
  }
 },
 "nbformat": 4,
 "nbformat_minor": 5
}
