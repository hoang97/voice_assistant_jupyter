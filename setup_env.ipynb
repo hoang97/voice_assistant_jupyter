{
 "cells": [
  {
   "cell_type": "code",
   "execution_count": 10,
   "id": "9f466586",
   "metadata": {},
   "outputs": [
    {
     "name": "stdout",
     "output_type": "stream",
     "text": [
      "Installed kernelspec env in C:\\Users\\hoang\\AppData\\Roaming\\jupyter\\kernels\\env\n"
     ]
    }
   ],
   "source": [
    "# Install virtual environment for jupyter notebook\n",
    "# After running this file, run diplom file under 'env' kernel\n",
    "# Check this out for more information: https://pythoninoffice.com/virtual-environment-and-jupyter-notebook/\n",
    "!pip install ipykernel\n",
    "!python -m ipykernel install --user --name=env"
   ]
  },
  {
   "cell_type": "code",
   "execution_count": 9,
   "id": "e2578385",
   "metadata": {},
   "outputs": [
    {
     "name": "stdout",
     "output_type": "stream",
     "text": [
      "Available kernels:\n",
      "  env        C:\\Users\\hoang\\AppData\\Roaming\\jupyter\\kernels\\env\n",
      "  python3    C:\\Users\\hoang\\AppData\\Local\\Programs\\Python\\Python310\\share\\jupyter\\kernels\\python3\n"
     ]
    }
   ],
   "source": [
    "# Show all existed kernels\n",
    "!jupyter kernelspec list"
   ]
  },
  {
   "cell_type": "code",
   "execution_count": 8,
   "id": "3de57165",
   "metadata": {},
   "outputs": [
    {
     "data": {
      "text/plain": [
       "'C:\\\\Users\\\\hoang\\\\AppData\\\\Local\\\\Programs\\\\Python\\\\Python310\\\\python.exe'"
      ]
     },
     "execution_count": 8,
     "metadata": {},
     "output_type": "execute_result"
    }
   ],
   "source": [
    "# Show current python kernel\n",
    "# Till this step Jupiter is still running default kernel\n",
    "import sys\n",
    "sys.executable"
   ]
  },
  {
   "cell_type": "code",
   "execution_count": 1,
   "id": "61882278",
   "metadata": {},
   "outputs": [
    {
     "name": "stderr",
     "output_type": "stream",
     "text": [
      "D:\\project\\diplom_vu\\env\\Scripts\\python.exe: No module named ipykernel\n"
     ]
    }
   ],
   "source": [
    "# After finish project run this\n",
    "# If you want remove virtual kernel to clean up\n",
    "\n",
    "# !jupyter kernelspec uninstall env"
   ]
  }
 ],
 "metadata": {
  "kernelspec": {
   "display_name": "env",
   "language": "python",
   "name": "env"
  },
  "language_info": {
   "codemirror_mode": {
    "name": "ipython",
    "version": 3
   },
   "file_extension": ".py",
   "mimetype": "text/x-python",
   "name": "python",
   "nbconvert_exporter": "python",
   "pygments_lexer": "ipython3",
   "version": "3.10.7"
  }
 },
 "nbformat": 4,
 "nbformat_minor": 5
}
